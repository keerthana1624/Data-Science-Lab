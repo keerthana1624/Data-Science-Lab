{
  "nbformat": 4,
  "nbformat_minor": 0,
  "metadata": {
    "colab": {
      "name": "Exc5.ipynb",
      "provenance": []
    },
    "kernelspec": {
      "name": "python3",
      "display_name": "Python 3"
    },
    "language_info": {
      "name": "python"
    }
  },
  "cells": [
    {
      "cell_type": "code",
      "execution_count": 1,
      "metadata": {
        "colab": {
          "base_uri": "https://localhost:8080/"
        },
        "id": "AKt6_QHa-lLl",
        "outputId": "1c5194ff-4d91-4dc8-c9d9-07091d77cac3"
      },
      "outputs": [
        {
          "output_type": "stream",
          "name": "stdout",
          "text": [
            "Extracting feature names\n",
            "['sepal length (cm)', 'sepal width (cm)', 'petal length (cm)', 'petal width (cm)']\n",
            "extracting target names\n",
            "['setosa' 'versicolor' 'virginica']\n",
            "no of columns of train data\n",
            "(105, 4)\n",
            "no of columns of test data\n",
            "(45, 4)\n",
            "predicted output of test data\n",
            "[0 1 1 0 2 1 2 0 0 2 1 0 2 1 1 0 1 1 0 0 1 1 1 0 2 1 0 0 1 2 1 2 1 2 2 0 1\n",
            " 0 1 2 2 0 1 2 1]\n",
            "accuracy score\n",
            "0.9777777777777777\n",
            "predicted values\n",
            "['virginica']\n"
          ]
        }
      ],
      "source": [
        "from sklearn.datasets import load_iris\n",
        "\n",
        "from sklearn.model_selection import train_test_split\n",
        "from sklearn.neighbors import KNeighborsClassifier\n",
        "from sklearn import metrics\n",
        "iris=load_iris()\n",
        "x=iris.data\n",
        "y=iris.target\n",
        "print(\"Extracting feature names\")\n",
        "print(iris.feature_names)\n",
        "print(\"extracting target names\")\n",
        "print(iris.target_names)\n",
        "\n",
        "x_train,x_test,y_train,y_test=train_test_split(x,y,test_size=0.3,random_state=1)\n",
        "c_knn=KNeighborsClassifier(n_neighbors=3)\n",
        "c_knn.fit(x_train,y_train)\n",
        "print(\"no of columns of train data\")\n",
        "print(x_train.shape)\n",
        "print(\"no of columns of test data\")\n",
        "print(x_test.shape)\n",
        "y_pred=c_knn.predict(x_test)\n",
        "print(\"predicted output of test data\")\n",
        "print(y_pred)\n",
        "print(\"accuracy score\")\n",
        "print(metrics.accuracy_score(y_test,y_pred))\n",
        "sample=[[5,2,3,4]]\n",
        "pred=c_knn.predict(sample)\n",
        "pred_v=[iris.target_names[p] for p in pred]\n",
        "print(\"predicted values\")\n",
        "print(pred_v)\n",
        "\n"
      ]
    }
  ]
}