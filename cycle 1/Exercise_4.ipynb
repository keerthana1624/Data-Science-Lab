{
 "cells": [
  {
   "cell_type": "code",
   "execution_count": 1,
   "id": "7dbb8df4",
   "metadata": {},
   "outputs": [
    {
     "name": "stdout",
     "output_type": "stream",
     "text": [
      "1     Hari\n",
      "2     Arya\n",
      "3    Meenu\n",
      "4    Silpa\n",
      "dtype: object\n"
     ]
    }
   ],
   "source": [
    "import pandas as pd\n",
    "x = pd.Series(['Hari', 'Arya', 'Meenu', 'Silpa'], index =[1, 2, 3, 4])\n",
    "print(x)"
   ]
  },
  {
   "cell_type": "code",
   "execution_count": 5,
   "id": "ddfbd68d",
   "metadata": {},
   "outputs": [
    {
     "name": "stdout",
     "output_type": "stream",
     "text": [
      "DatetimeIndex(['2021-05-01', '2021-05-02', '2021-05-03', '2021-05-04',\n",
      "               '2021-05-05', '2021-05-06', '2021-05-07', '2021-05-08',\n",
      "               '2021-05-09', '2021-05-10', '2021-05-11', '2021-05-12'],\n",
      "              dtype='datetime64[ns]', freq='D')\n"
     ]
    }
   ],
   "source": [
    "import pandas as pd\n",
    "date=pd.date_range(start='05.01.2021',end='05.12.2021')\n",
    "print(date)"
   ]
  },
  {
   "cell_type": "code",
   "execution_count": 2,
   "id": "6cb60ed6",
   "metadata": {},
   "outputs": [
    {
     "name": "stdout",
     "output_type": "stream",
     "text": [
      "        Name  Age Sex\n",
      "0  Keerthana   24   M\n",
      "1      Kiran   24   M\n",
      "2      Dachu   25   M\n"
     ]
    }
   ],
   "source": [
    "import pandas as pd\n",
    "dict= {\n",
    "    'Name' : ['Keerthana', 'Kiran', 'Dachu'],\n",
    "    'Age' : [24, 24, 25],\n",
    "    'Sex' : ['M', 'M', 'M']\n",
    "}\n",
    "dframe = pd.DataFrame(dict)\n",
    "print(dframe)  "
   ]
  },
  {
   "cell_type": "code",
   "execution_count": 3,
   "id": "1ec24c33",
   "metadata": {},
   "outputs": [
    {
     "name": "stdout",
     "output_type": "stream",
     "text": [
      "   0          1          2   3  4\n",
      "0  1  Keerthana   Thrissur  35  F\n",
      "1  2   Harishma   Thrissur  32  F\n",
      "2  3      Silpa      Adoor  50  F\n",
      "3  4       Arya    Varkala  23  F\n",
      "4  5      Meenu  Ayyanthol  37  F\n"
     ]
    }
   ],
   "source": [
    "import pandas as pd\n",
    "\n",
    "data = [[1, 'Keerthana', 'Thrissur',35,'F'], \n",
    "        [2,'Harishma', 'Thrissur', 32, 'F'], \n",
    "        [3,'Silpa', 'Adoor', 50, 'F'], \n",
    "        [4,'Arya', 'Varkala', 23, 'F'],\n",
    "       [5,'Meenu','Ayyanthol',37,'F']]\n",
    "df = pd.DataFrame.from_records(data)\n",
    "print(df)"
   ]
  },
  {
   "cell_type": "code",
   "execution_count": 10,
   "id": "d799c317",
   "metadata": {},
   "outputs": [
    {
     "name": "stdout",
     "output_type": "stream",
     "text": [
      "      Id     Place\n",
      "0  1      Thrissur\n",
      "1    2      Kollam\n",
      "2    3      Idukki\n",
      "3    4      Vyanad\n",
      "4    5      Kollam\n"
     ]
    }
   ],
   "source": [
    "import pandas as pdf\n",
    "df=pd.read_csv('Ex4.csv')\n",
    "print(df)"
   ]
  },
  {
   "cell_type": "code",
   "execution_count": 4,
   "id": "069c62a2",
   "metadata": {},
   "outputs": [
    {
     "name": "stdout",
     "output_type": "stream",
     "text": [
      "   Name Id  Age\n",
      "0  Aish  1   22\n",
      "1  Sona  3   31\n",
      "2  Ammu  2   12\n",
      "\n",
      "\n",
      "SORTED DATAFRAME\n",
      "   Name Id  Age\n",
      "0  Aish  1   22\n",
      "2  Ammu  2   12\n",
      "1  Sona  3   31\n"
     ]
    }
   ],
   "source": [
    "import pandas as pd\n",
    "details= {\n",
    "    'Name' : ['Aish', 'Sona', 'Ammu'],\n",
    "    'Id' : ['1', '3', '2'],\n",
    "    'Age' : [22, 31, 12]\n",
    "}\n",
    "dataframe = pd.DataFrame(details)\n",
    "print(dataframe)\n",
    "print()\n",
    "print()\n",
    "print('SORTED DATAFRAME')\n",
    "print(dataframe.sort_values(by=['Name','Age'], ascending=True))"
   ]
  },
  {
   "cell_type": "code",
   "execution_count": 5,
   "id": "20535963",
   "metadata": {},
   "outputs": [
    {
     "name": "stdout",
     "output_type": "stream",
     "text": [
      "    Name  Roll No  Dept\n",
      "c   Ammu        1    CS\n",
      "b  Kiran        2  Mech\n",
      "a   Arya        3   MCA\n",
      "\n",
      "  index   Name  Roll No  Dept\n",
      "0     c   Ammu        1    CS\n",
      "1     b  Kiran        2  Mech\n",
      "2     a   Arya        3   MCA\n"
     ]
    }
   ],
   "source": [
    "import pandas as pd\n",
    "details= {\n",
    "    'Name' : ['Ammu', 'Kiran', 'Arya'],\n",
    "    'Roll No' : [1, 2, 3],\n",
    "    'Dept' : ['CS', 'Mech', 'MCA']\n",
    "}\n",
    "index = {'a', 'b', 'c'}\n",
    "df = pd.DataFrame(details, index)\n",
    "print(df)\n",
    "print()\n",
    "df.reset_index(inplace = True)\n",
    "print(df)"
   ]
  },
  {
   "cell_type": "code",
   "execution_count": 6,
   "id": "cff9e7d8",
   "metadata": {},
   "outputs": [
    {
     "name": "stdout",
     "output_type": "stream",
     "text": [
      "    Name  Roll No  Dept\n",
      "0   Ammu        1    CS\n",
      "1  Kiran        2  Mech\n",
      "2  Dachu        3   MCA\n",
      "\n",
      "    Name  Roll No  Dept\n",
      "0   Ammu        1    CS\n",
      "1  Kiran        2  Mech\n"
     ]
    }
   ],
   "source": [
    "import pandas as pd\n",
    "data= {\n",
    "    'Name' : ['Ammu', 'Kiran', 'Dachu'],\n",
    "    'Roll No' : [1, 2, 3],\n",
    "    'Dept' : ['CS', 'Mech', 'MCA']\n",
    "}\n",
    "index = {'a', 'b', 'c'}\n",
    "df = pd.DataFrame(data)\n",
    "print(df)\n",
    "print()\n",
    "Nd = df.head(2)\n",
    "print(Nd)"
   ]
  },
  {
   "cell_type": "code",
   "execution_count": 7,
   "id": "b6274c0a",
   "metadata": {},
   "outputs": [
    {
     "name": "stdout",
     "output_type": "stream",
     "text": [
      "        Name Occupation  Salary\n",
      "0  Keerthana   Engineer   45000\n",
      "1      Kiran    Teacher   66000\n",
      "2      Dachu    Manager   55000\n",
      "3       Sree    Teacher   35000\n",
      "4      Vidhu   Engineer   20000\n",
      "\n",
      "\n",
      "Occupation\n",
      "Engineer    32500.0\n",
      "Manager     55000.0\n",
      "Teacher     50500.0\n",
      "Name: Salary, dtype: float64\n"
     ]
    }
   ],
   "source": [
    "import pandas as pd\n",
    "data= {\n",
    "    'Name' : ['Keerthana','Kiran','Dachu','Sree','Vidhu'],\n",
    "    'Occupation':['Engineer','Teacher','Manager','Teacher','Engineer'],\n",
    "    'Salary':[45000,66000,55000,35000,20000]\n",
    "}\n",
    "df=pd.DataFrame(data)\n",
    "print(df)\n",
    "print()\n",
    "print()\n",
    "sal_avg= df.groupby('Occupation')['Salary'].mean() \n",
    "print(sal_avg)"
   ]
  },
  {
   "cell_type": "code",
   "execution_count": 8,
   "id": "86a9e029",
   "metadata": {},
   "outputs": [
    {
     "name": "stdout",
     "output_type": "stream",
     "text": [
      "   Id       Name         Phone\n",
      "0   1       Hari           NaN\n",
      "1   2  Keerthana  9.324138e+09\n",
      "2   3       Arya           NaN\n",
      "\n",
      "\n",
      "   Id       Name         Phone\n",
      "0   1       Hari  0.000000e+00\n",
      "1   2  Keerthana  9.324138e+09\n",
      "2   3       Arya  0.000000e+00\n"
     ]
    }
   ],
   "source": [
    "import pandas as pd\n",
    "import numpy as np\n",
    "data= {\n",
    "    'Id' : [1, 2, 3],\n",
    "    'Name' : ['Hari', 'Keerthana', 'Arya'],\n",
    "    'Phone':[np.nan,9324137803,np.nan]\n",
    "}\n",
    "df=pd.DataFrame(data)\n",
    "print(df)\n",
    "print()\n",
    "print()\n",
    "df_nullfill = df.fillna(0)\n",
    "print(df_nullfill)"
   ]
  },
  {
   "cell_type": "code",
   "execution_count": 20,
   "id": "eb91c793",
   "metadata": {},
   "outputs": [
    {
     "name": "stdout",
     "output_type": "stream",
     "text": [
      "       cname   profit\n",
      "0      Wipro  1000000\n",
      "1  Cognizant  2000000\n",
      "2   Applexus   -31110\n",
      "3        UST   -43000\n",
      "\n",
      "\n",
      "       cname  profit\n",
      "0      Wipro    True\n",
      "1  Cognizant    True\n",
      "2   Applexus   False\n",
      "3        UST   False\n"
     ]
    }
   ],
   "source": [
    "data= {\n",
    "    'cname' : ['Wipro','Cognizant','Applexus','UST'],\n",
    "    'profit' : [1000000,2000000,-31110,-43000]\n",
    "}\n",
    "df=pd.DataFrame(data)\n",
    "print(df)\n",
    "print()\n",
    "print()\n",
    "df['profit'] = df['profit'].apply(lambda x:x>0)\n",
    "print(df)"
   ]
  },
  {
   "cell_type": "code",
   "execution_count": 9,
   "id": "cb03c902",
   "metadata": {},
   "outputs": [
    {
     "name": "stdout",
     "output_type": "stream",
     "text": [
      "   eid  ename  stipend\n",
      "0  100  Gouri    50000\n",
      "1  101   Ammu    20000\n",
      "2  102   Hari    13000\n",
      "3  103   Arya    15000\n",
      "\n",
      "\n",
      "   eid     designation\n",
      "0  100  senior manager\n",
      "1  101   sales manager\n",
      "2  102         manager\n",
      "3  103           clerk\n",
      "\n",
      "\n",
      "   eid  ename  stipend     designation\n",
      "0  100  Gouri    50000  senior manager\n",
      "1  101   Ammu    20000   sales manager\n",
      "2  102   Hari    13000         manager\n",
      "3  103   Arya    15000           clerk\n"
     ]
    }
   ],
   "source": [
    "data1= {\n",
    "    'eid' : [100,101,102,103],\n",
    "    'ename' : ['Gouri','Ammu','Hari','Arya'],\n",
    "    'stipend' : [50000,20000,13000,15000]\n",
    "}\n",
    "data2= {\n",
    "    'eid' : [100,101,102,103],\n",
    "    'designation' : ['senior manager','sales manager','manager','clerk']\n",
    "}\n",
    "df1=pd.DataFrame(data1)\n",
    "df2=pd.DataFrame(data2)\n",
    "print(df1)\n",
    "print()\n",
    "print()\n",
    "print(df2)\n",
    "print()\n",
    "print()\n",
    "dataframe = pd.merge(df1, df2, how = 'inner', on = 'eid')\n",
    "print(dataframe)"
   ]
  },
  {
   "cell_type": "code",
   "execution_count": null,
   "id": "fcd50809",
   "metadata": {},
   "outputs": [],
   "source": []
  }
 ],
 "metadata": {
  "kernelspec": {
   "display_name": "Python 3 (ipykernel)",
   "language": "python",
   "name": "python3"
  },
  "language_info": {
   "codemirror_mode": {
    "name": "ipython",
    "version": 3
   },
   "file_extension": ".py",
   "mimetype": "text/x-python",
   "name": "python",
   "nbconvert_exporter": "python",
   "pygments_lexer": "ipython3",
   "version": "3.9.7"
  }
 },
 "nbformat": 4,
 "nbformat_minor": 5
}
